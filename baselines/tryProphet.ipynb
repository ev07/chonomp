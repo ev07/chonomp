{
 "cells": [
  {
   "cell_type": "code",
   "execution_count": 3,
   "id": "3d7cde58",
   "metadata": {},
   "outputs": [],
   "source": [
    "import pandas as pd\n",
    "import sktime\n",
    "import os\n",
    "import sys\n",
    "\n",
    "rootdir = \"../\"\n",
    "sys.path.append(rootdir)\n",
    "\n",
    "from data_opener import open_dataset_and_ground_truth"
   ]
  },
  {
   "cell_type": "markdown",
   "id": "8ce452c4",
   "metadata": {},
   "source": [
    "The problem with sktime is that it assumes that the model will be trained on the data right before the predicted sequence. A model cannot be trained, then applied to a completely different dataset. Only forward is possible.\n",
    "\n",
    "This means that an evaluation setting to get a list of y_pred, would require fitting as many models with horizon 1 as there is test variables... Which is way too costly.\n",
    "\n",
    "Perhaps sktime regressors would be more suited to my approach.\n",
    "\n",
    "Just in case, here are some interesting sktime forecaster, that admit exogeneous variables.\n",
    " - https://www.sktime.net/en/latest/api_reference/auto_generated/sktime.forecasting.arch.StatsForecastGARCH.html\n",
    " - https://www.sktime.net/en/latest/api_reference/auto_generated/sktime.forecasting.trend.STLForecaster.html\n",
    " - https://www.statsmodels.org/dev/generated/statsmodels.tsa.statespace.dynamic_factor_mq.DynamicFactorMQ.html#statsmodels.tsa.statespace.dynamic_factor_mq.DynamicFactorMQ\n",
    " - https://www.sktime.net/en/latest/api_reference/auto_generated/sktime.forecasting.trend.PolynomialTrendForecaster.html#sktime.forecasting.trend.PolynomialTrendForecaster.fit_predict\n",
    " - https://www.sktime.net/en/latest/api_reference/auto_generated/sktime.forecasting.fbprophet.Prophet.html#prophet"
   ]
  },
  {
   "cell_type": "markdown",
   "id": "c7daeed3",
   "metadata": {},
   "source": [
    "As for regressors, they look like an appropriate solution\n",
    "\n"
   ]
  },
  {
   "cell_type": "code",
   "execution_count": 4,
   "id": "6b3214b2",
   "metadata": {},
   "outputs": [],
   "source": [
    "df, _, _, _ = open_dataset_and_ground_truth(\"fMRI_processed_by_Nauta/returns/our_selection\",\"timeseries1.csv\", rootdir = \"../\")"
   ]
  },
  {
   "cell_type": "code",
   "execution_count": 12,
   "id": "5ffbde04",
   "metadata": {},
   "outputs": [
    {
     "data": {
      "text/html": [
       "<div>\n",
       "<style scoped>\n",
       "    .dataframe tbody tr th:only-of-type {\n",
       "        vertical-align: middle;\n",
       "    }\n",
       "\n",
       "    .dataframe tbody tr th {\n",
       "        vertical-align: top;\n",
       "    }\n",
       "\n",
       "    .dataframe thead th {\n",
       "        text-align: right;\n",
       "    }\n",
       "</style>\n",
       "<table border=\"1\" class=\"dataframe\">\n",
       "  <thead>\n",
       "    <tr style=\"text-align: right;\">\n",
       "      <th></th>\n",
       "      <th>0</th>\n",
       "      <th>1</th>\n",
       "      <th>2</th>\n",
       "      <th>3</th>\n",
       "      <th>4</th>\n",
       "    </tr>\n",
       "  </thead>\n",
       "  <tbody>\n",
       "    <tr>\n",
       "      <th>0</th>\n",
       "      <td>-0.678524</td>\n",
       "      <td>-0.556295</td>\n",
       "      <td>-0.299887</td>\n",
       "      <td>-1.173443</td>\n",
       "      <td>-0.437786</td>\n",
       "    </tr>\n",
       "    <tr>\n",
       "      <th>1</th>\n",
       "      <td>-0.293738</td>\n",
       "      <td>-0.240375</td>\n",
       "      <td>-1.133090</td>\n",
       "      <td>-0.241252</td>\n",
       "      <td>0.457178</td>\n",
       "    </tr>\n",
       "    <tr>\n",
       "      <th>2</th>\n",
       "      <td>-0.507616</td>\n",
       "      <td>-0.338707</td>\n",
       "      <td>-0.325274</td>\n",
       "      <td>-0.411633</td>\n",
       "      <td>0.036790</td>\n",
       "    </tr>\n",
       "    <tr>\n",
       "      <th>3</th>\n",
       "      <td>1.088598</td>\n",
       "      <td>-1.029587</td>\n",
       "      <td>-0.413861</td>\n",
       "      <td>-0.043702</td>\n",
       "      <td>-0.834169</td>\n",
       "    </tr>\n",
       "    <tr>\n",
       "      <th>4</th>\n",
       "      <td>1.387013</td>\n",
       "      <td>0.022765</td>\n",
       "      <td>0.608978</td>\n",
       "      <td>-0.677545</td>\n",
       "      <td>-0.405465</td>\n",
       "    </tr>\n",
       "    <tr>\n",
       "      <th>...</th>\n",
       "      <td>...</td>\n",
       "      <td>...</td>\n",
       "      <td>...</td>\n",
       "      <td>...</td>\n",
       "      <td>...</td>\n",
       "    </tr>\n",
       "    <tr>\n",
       "      <th>195</th>\n",
       "      <td>0.575230</td>\n",
       "      <td>0.528570</td>\n",
       "      <td>0.454471</td>\n",
       "      <td>0.945913</td>\n",
       "      <td>1.363937</td>\n",
       "    </tr>\n",
       "    <tr>\n",
       "      <th>196</th>\n",
       "      <td>1.959348</td>\n",
       "      <td>0.842827</td>\n",
       "      <td>-0.848520</td>\n",
       "      <td>1.492368</td>\n",
       "      <td>1.683120</td>\n",
       "    </tr>\n",
       "    <tr>\n",
       "      <th>197</th>\n",
       "      <td>0.524308</td>\n",
       "      <td>0.211892</td>\n",
       "      <td>-0.178575</td>\n",
       "      <td>0.498877</td>\n",
       "      <td>0.708297</td>\n",
       "    </tr>\n",
       "    <tr>\n",
       "      <th>198</th>\n",
       "      <td>-1.232276</td>\n",
       "      <td>-0.653899</td>\n",
       "      <td>-0.882367</td>\n",
       "      <td>0.289989</td>\n",
       "      <td>-0.022106</td>\n",
       "    </tr>\n",
       "    <tr>\n",
       "      <th>199</th>\n",
       "      <td>-1.016479</td>\n",
       "      <td>-0.066663</td>\n",
       "      <td>0.241383</td>\n",
       "      <td>-1.684191</td>\n",
       "      <td>-1.309787</td>\n",
       "    </tr>\n",
       "  </tbody>\n",
       "</table>\n",
       "<p>200 rows × 5 columns</p>\n",
       "</div>"
      ],
      "text/plain": [
       "            0         1         2         3         4\n",
       "0   -0.678524 -0.556295 -0.299887 -1.173443 -0.437786\n",
       "1   -0.293738 -0.240375 -1.133090 -0.241252  0.457178\n",
       "2   -0.507616 -0.338707 -0.325274 -0.411633  0.036790\n",
       "3    1.088598 -1.029587 -0.413861 -0.043702 -0.834169\n",
       "4    1.387013  0.022765  0.608978 -0.677545 -0.405465\n",
       "..        ...       ...       ...       ...       ...\n",
       "195  0.575230  0.528570  0.454471  0.945913  1.363937\n",
       "196  1.959348  0.842827 -0.848520  1.492368  1.683120\n",
       "197  0.524308  0.211892 -0.178575  0.498877  0.708297\n",
       "198 -1.232276 -0.653899 -0.882367  0.289989 -0.022106\n",
       "199 -1.016479 -0.066663  0.241383 -1.684191 -1.309787\n",
       "\n",
       "[200 rows x 5 columns]"
      ]
     },
     "execution_count": 12,
     "metadata": {},
     "output_type": "execute_result"
    }
   ],
   "source": [
    "df"
   ]
  },
  {
   "cell_type": "code",
   "execution_count": 13,
   "id": "cbece05d",
   "metadata": {},
   "outputs": [],
   "source": [
    "from sktime.forecasting.fbprophet import Prophet"
   ]
  },
  {
   "cell_type": "code",
   "execution_count": 15,
   "id": "5c43d98b",
   "metadata": {},
   "outputs": [
    {
     "name": "stderr",
     "output_type": "stream",
     "text": [
      "16:24:57 - cmdstanpy - INFO - Chain [1] start processing\n",
      "16:24:57 - cmdstanpy - INFO - Chain [1] done processing\n"
     ]
    },
    {
     "data": {
      "text/html": [
       "<style>#sk-7335abb9-6990-4dcc-b338-7daa65d3e026 {color: black;background-color: white;}#sk-7335abb9-6990-4dcc-b338-7daa65d3e026 pre{padding: 0;}#sk-7335abb9-6990-4dcc-b338-7daa65d3e026 div.sk-toggleable {background-color: white;}#sk-7335abb9-6990-4dcc-b338-7daa65d3e026 label.sk-toggleable__label {cursor: pointer;display: block;width: 100%;margin-bottom: 0;padding: 0.3em;box-sizing: border-box;text-align: center;}#sk-7335abb9-6990-4dcc-b338-7daa65d3e026 label.sk-toggleable__label-arrow:before {content: \"▸\";float: left;margin-right: 0.25em;color: #696969;}#sk-7335abb9-6990-4dcc-b338-7daa65d3e026 label.sk-toggleable__label-arrow:hover:before {color: black;}#sk-7335abb9-6990-4dcc-b338-7daa65d3e026 div.sk-estimator:hover label.sk-toggleable__label-arrow:before {color: black;}#sk-7335abb9-6990-4dcc-b338-7daa65d3e026 div.sk-toggleable__content {max-height: 0;max-width: 0;overflow: hidden;text-align: left;background-color: #f0f8ff;}#sk-7335abb9-6990-4dcc-b338-7daa65d3e026 div.sk-toggleable__content pre {margin: 0.2em;color: black;border-radius: 0.25em;background-color: #f0f8ff;}#sk-7335abb9-6990-4dcc-b338-7daa65d3e026 input.sk-toggleable__control:checked~div.sk-toggleable__content {max-height: 200px;max-width: 100%;overflow: auto;}#sk-7335abb9-6990-4dcc-b338-7daa65d3e026 input.sk-toggleable__control:checked~label.sk-toggleable__label-arrow:before {content: \"▾\";}#sk-7335abb9-6990-4dcc-b338-7daa65d3e026 div.sk-estimator input.sk-toggleable__control:checked~label.sk-toggleable__label {background-color: #d4ebff;}#sk-7335abb9-6990-4dcc-b338-7daa65d3e026 div.sk-label input.sk-toggleable__control:checked~label.sk-toggleable__label {background-color: #d4ebff;}#sk-7335abb9-6990-4dcc-b338-7daa65d3e026 input.sk-hidden--visually {border: 0;clip: rect(1px 1px 1px 1px);clip: rect(1px, 1px, 1px, 1px);height: 1px;margin: -1px;overflow: hidden;padding: 0;position: absolute;width: 1px;}#sk-7335abb9-6990-4dcc-b338-7daa65d3e026 div.sk-estimator {font-family: monospace;background-color: #f0f8ff;border: 1px dotted black;border-radius: 0.25em;box-sizing: border-box;margin-bottom: 0.5em;}#sk-7335abb9-6990-4dcc-b338-7daa65d3e026 div.sk-estimator:hover {background-color: #d4ebff;}#sk-7335abb9-6990-4dcc-b338-7daa65d3e026 div.sk-parallel-item::after {content: \"\";width: 100%;border-bottom: 1px solid gray;flex-grow: 1;}#sk-7335abb9-6990-4dcc-b338-7daa65d3e026 div.sk-label:hover label.sk-toggleable__label {background-color: #d4ebff;}#sk-7335abb9-6990-4dcc-b338-7daa65d3e026 div.sk-serial::before {content: \"\";position: absolute;border-left: 1px solid gray;box-sizing: border-box;top: 2em;bottom: 0;left: 50%;}#sk-7335abb9-6990-4dcc-b338-7daa65d3e026 div.sk-serial {display: flex;flex-direction: column;align-items: center;background-color: white;padding-right: 0.2em;padding-left: 0.2em;}#sk-7335abb9-6990-4dcc-b338-7daa65d3e026 div.sk-item {z-index: 1;}#sk-7335abb9-6990-4dcc-b338-7daa65d3e026 div.sk-parallel {display: flex;align-items: stretch;justify-content: center;background-color: white;}#sk-7335abb9-6990-4dcc-b338-7daa65d3e026 div.sk-parallel::before {content: \"\";position: absolute;border-left: 1px solid gray;box-sizing: border-box;top: 2em;bottom: 0;left: 50%;}#sk-7335abb9-6990-4dcc-b338-7daa65d3e026 div.sk-parallel-item {display: flex;flex-direction: column;position: relative;background-color: white;}#sk-7335abb9-6990-4dcc-b338-7daa65d3e026 div.sk-parallel-item:first-child::after {align-self: flex-end;width: 50%;}#sk-7335abb9-6990-4dcc-b338-7daa65d3e026 div.sk-parallel-item:last-child::after {align-self: flex-start;width: 50%;}#sk-7335abb9-6990-4dcc-b338-7daa65d3e026 div.sk-parallel-item:only-child::after {width: 0;}#sk-7335abb9-6990-4dcc-b338-7daa65d3e026 div.sk-dashed-wrapped {border: 1px dashed gray;margin: 0 0.4em 0.5em 0.4em;box-sizing: border-box;padding-bottom: 0.4em;background-color: white;position: relative;}#sk-7335abb9-6990-4dcc-b338-7daa65d3e026 div.sk-label label {font-family: monospace;font-weight: bold;background-color: white;display: inline-block;line-height: 1.2em;}#sk-7335abb9-6990-4dcc-b338-7daa65d3e026 div.sk-label-container {position: relative;z-index: 2;text-align: center;}#sk-7335abb9-6990-4dcc-b338-7daa65d3e026 div.sk-container {/* jupyter's `normalize.less` sets `[hidden] { display: none; }` but bootstrap.min.css set `[hidden] { display: none !important; }` so we also need the `!important` here to be able to override the default hidden behavior on the sphinx rendered scikit-learn.org. See: https://github.com/scikit-learn/scikit-learn/issues/21755 */display: inline-block !important;position: relative;}#sk-7335abb9-6990-4dcc-b338-7daa65d3e026 div.sk-text-repr-fallback {display: none;}</style><div id='sk-7335abb9-6990-4dcc-b338-7daa65d3e026' class=\"sk-top-container\"><div class=\"sk-text-repr-fallback\"><pre>Prophet(seasonality_mode=&#x27;multiplicative&#x27;)</pre><b>Please rerun this cell to show the HTML repr or trust the notebook.</b></div><div class=\"sk-container\" hidden><div class='sk-item'><div class=\"sk-estimator sk-toggleable\"><input class=\"sk-toggleable__control sk-hidden--visually\" id=UUID('e9550d46-c3df-49e4-ac03-3db85fc0858e') type=\"checkbox\" checked><label for=UUID('e9550d46-c3df-49e4-ac03-3db85fc0858e') class='sk-toggleable__label sk-toggleable__label-arrow'>Prophet</label><div class=\"sk-toggleable__content\"><pre>Prophet(seasonality_mode=&#x27;multiplicative&#x27;)</pre></div></div></div></div></div>"
      ],
      "text/plain": [
       "Prophet(seasonality_mode='multiplicative')"
      ]
     },
     "execution_count": 15,
     "metadata": {},
     "output_type": "execute_result"
    }
   ],
   "source": [
    "forecaster = Prophet(\n",
    "    seasonality_mode='multiplicative',\n",
    "    )\n",
    "forecaster.fit(df[\"0\"])  "
   ]
  },
  {
   "cell_type": "code",
   "execution_count": 16,
   "id": "61905aeb",
   "metadata": {},
   "outputs": [
    {
     "data": {
      "text/plain": [
       "200   -0.032439\n",
       "Name: 0, dtype: float64"
      ]
     },
     "execution_count": 16,
     "metadata": {},
     "output_type": "execute_result"
    }
   ],
   "source": [
    "forecaster.predict(fh=[1])"
   ]
  },
  {
   "cell_type": "code",
   "execution_count": 22,
   "id": "e682d5a5",
   "metadata": {},
   "outputs": [
    {
     "data": {
      "text/plain": [
       "{'k': -0.025913,\n",
       " 'm': 0.0139355,\n",
       " 'sigma_obs': 0.368582,\n",
       " 'delta': array([ 4.48968e-09,  1.73753e-04,  3.99225e-10,  3.35399e-09,\n",
       "        -3.22905e-09,  5.21945e-09,  9.03097e-09,  5.31525e-09,\n",
       "         1.89466e-09, -4.57523e-09, -1.09110e-11,  3.60884e-09,\n",
       "         4.56482e-09, -5.24390e-09,  7.96387e-09,  1.90885e-09,\n",
       "         8.34667e-09,  4.39689e-10,  3.35093e-09,  3.56063e-09,\n",
       "        -9.83922e-10,  2.66479e-09, -3.41292e-10, -5.96008e-09,\n",
       "         3.12992e-09]),\n",
       " 'beta': array([-4.51561e-03, -6.86330e-06, -2.60030e-03,  5.77618e-03,\n",
       "         3.26588e-03,  7.12572e-04])}"
      ]
     },
     "execution_count": 22,
     "metadata": {},
     "output_type": "execute_result"
    }
   ],
   "source": [
    "forecaster.get_fitted_params()"
   ]
  },
  {
   "cell_type": "code",
   "execution_count": 31,
   "id": "4de5808f",
   "metadata": {},
   "outputs": [],
   "source": [
    "a = forecaster.predict_residuals()"
   ]
  },
  {
   "cell_type": "code",
   "execution_count": 32,
   "id": "54bf1104",
   "metadata": {},
   "outputs": [],
   "source": [
    "b = forecaster.predict_residuals(y=df[\"1\"])"
   ]
  },
  {
   "cell_type": "code",
   "execution_count": 33,
   "id": "cecc8a55",
   "metadata": {},
   "outputs": [
    {
     "data": {
      "text/plain": [
       "0      0.000000e+00\n",
       "1     -5.551115e-17\n",
       "2      0.000000e+00\n",
       "3      2.220446e-16\n",
       "4     -2.220446e-16\n",
       "           ...     \n",
       "195    0.000000e+00\n",
       "196   -2.220446e-16\n",
       "197   -1.110223e-16\n",
       "198   -2.220446e-16\n",
       "199    0.000000e+00\n",
       "Length: 200, dtype: float64"
      ]
     },
     "execution_count": 33,
     "metadata": {},
     "output_type": "execute_result"
    }
   ],
   "source": [
    "a - b + df[\"1\"]-df[\"0\"]"
   ]
  },
  {
   "cell_type": "markdown",
   "id": "47e120ac",
   "metadata": {},
   "source": [
    "## Regression"
   ]
  },
  {
   "cell_type": "code",
   "execution_count": 5,
   "id": "f9934af5",
   "metadata": {},
   "outputs": [],
   "source": [
    "from sktime.regression.kernel_based import RocketRegressor"
   ]
  },
  {
   "cell_type": "code",
   "execution_count": 7,
   "id": "a39933e1",
   "metadata": {},
   "outputs": [
    {
     "data": {
      "text/html": [
       "<style>#sk-1b1bddf9-6841-4fc8-9ef3-b215e45e4140 {color: black;background-color: white;}#sk-1b1bddf9-6841-4fc8-9ef3-b215e45e4140 pre{padding: 0;}#sk-1b1bddf9-6841-4fc8-9ef3-b215e45e4140 div.sk-toggleable {background-color: white;}#sk-1b1bddf9-6841-4fc8-9ef3-b215e45e4140 label.sk-toggleable__label {cursor: pointer;display: block;width: 100%;margin-bottom: 0;padding: 0.3em;box-sizing: border-box;text-align: center;}#sk-1b1bddf9-6841-4fc8-9ef3-b215e45e4140 label.sk-toggleable__label-arrow:before {content: \"▸\";float: left;margin-right: 0.25em;color: #696969;}#sk-1b1bddf9-6841-4fc8-9ef3-b215e45e4140 label.sk-toggleable__label-arrow:hover:before {color: black;}#sk-1b1bddf9-6841-4fc8-9ef3-b215e45e4140 div.sk-estimator:hover label.sk-toggleable__label-arrow:before {color: black;}#sk-1b1bddf9-6841-4fc8-9ef3-b215e45e4140 div.sk-toggleable__content {max-height: 0;max-width: 0;overflow: hidden;text-align: left;background-color: #f0f8ff;}#sk-1b1bddf9-6841-4fc8-9ef3-b215e45e4140 div.sk-toggleable__content pre {margin: 0.2em;color: black;border-radius: 0.25em;background-color: #f0f8ff;}#sk-1b1bddf9-6841-4fc8-9ef3-b215e45e4140 input.sk-toggleable__control:checked~div.sk-toggleable__content {max-height: 200px;max-width: 100%;overflow: auto;}#sk-1b1bddf9-6841-4fc8-9ef3-b215e45e4140 input.sk-toggleable__control:checked~label.sk-toggleable__label-arrow:before {content: \"▾\";}#sk-1b1bddf9-6841-4fc8-9ef3-b215e45e4140 div.sk-estimator input.sk-toggleable__control:checked~label.sk-toggleable__label {background-color: #d4ebff;}#sk-1b1bddf9-6841-4fc8-9ef3-b215e45e4140 div.sk-label input.sk-toggleable__control:checked~label.sk-toggleable__label {background-color: #d4ebff;}#sk-1b1bddf9-6841-4fc8-9ef3-b215e45e4140 input.sk-hidden--visually {border: 0;clip: rect(1px 1px 1px 1px);clip: rect(1px, 1px, 1px, 1px);height: 1px;margin: -1px;overflow: hidden;padding: 0;position: absolute;width: 1px;}#sk-1b1bddf9-6841-4fc8-9ef3-b215e45e4140 div.sk-estimator {font-family: monospace;background-color: #f0f8ff;border: 1px dotted black;border-radius: 0.25em;box-sizing: border-box;margin-bottom: 0.5em;}#sk-1b1bddf9-6841-4fc8-9ef3-b215e45e4140 div.sk-estimator:hover {background-color: #d4ebff;}#sk-1b1bddf9-6841-4fc8-9ef3-b215e45e4140 div.sk-parallel-item::after {content: \"\";width: 100%;border-bottom: 1px solid gray;flex-grow: 1;}#sk-1b1bddf9-6841-4fc8-9ef3-b215e45e4140 div.sk-label:hover label.sk-toggleable__label {background-color: #d4ebff;}#sk-1b1bddf9-6841-4fc8-9ef3-b215e45e4140 div.sk-serial::before {content: \"\";position: absolute;border-left: 1px solid gray;box-sizing: border-box;top: 2em;bottom: 0;left: 50%;}#sk-1b1bddf9-6841-4fc8-9ef3-b215e45e4140 div.sk-serial {display: flex;flex-direction: column;align-items: center;background-color: white;padding-right: 0.2em;padding-left: 0.2em;}#sk-1b1bddf9-6841-4fc8-9ef3-b215e45e4140 div.sk-item {z-index: 1;}#sk-1b1bddf9-6841-4fc8-9ef3-b215e45e4140 div.sk-parallel {display: flex;align-items: stretch;justify-content: center;background-color: white;}#sk-1b1bddf9-6841-4fc8-9ef3-b215e45e4140 div.sk-parallel::before {content: \"\";position: absolute;border-left: 1px solid gray;box-sizing: border-box;top: 2em;bottom: 0;left: 50%;}#sk-1b1bddf9-6841-4fc8-9ef3-b215e45e4140 div.sk-parallel-item {display: flex;flex-direction: column;position: relative;background-color: white;}#sk-1b1bddf9-6841-4fc8-9ef3-b215e45e4140 div.sk-parallel-item:first-child::after {align-self: flex-end;width: 50%;}#sk-1b1bddf9-6841-4fc8-9ef3-b215e45e4140 div.sk-parallel-item:last-child::after {align-self: flex-start;width: 50%;}#sk-1b1bddf9-6841-4fc8-9ef3-b215e45e4140 div.sk-parallel-item:only-child::after {width: 0;}#sk-1b1bddf9-6841-4fc8-9ef3-b215e45e4140 div.sk-dashed-wrapped {border: 1px dashed gray;margin: 0 0.4em 0.5em 0.4em;box-sizing: border-box;padding-bottom: 0.4em;background-color: white;position: relative;}#sk-1b1bddf9-6841-4fc8-9ef3-b215e45e4140 div.sk-label label {font-family: monospace;font-weight: bold;background-color: white;display: inline-block;line-height: 1.2em;}#sk-1b1bddf9-6841-4fc8-9ef3-b215e45e4140 div.sk-label-container {position: relative;z-index: 2;text-align: center;}#sk-1b1bddf9-6841-4fc8-9ef3-b215e45e4140 div.sk-container {/* jupyter's `normalize.less` sets `[hidden] { display: none; }` but bootstrap.min.css set `[hidden] { display: none !important; }` so we also need the `!important` here to be able to override the default hidden behavior on the sphinx rendered scikit-learn.org. See: https://github.com/scikit-learn/scikit-learn/issues/21755 */display: inline-block !important;position: relative;}#sk-1b1bddf9-6841-4fc8-9ef3-b215e45e4140 div.sk-text-repr-fallback {display: none;}</style><div id='sk-1b1bddf9-6841-4fc8-9ef3-b215e45e4140' class=\"sk-top-container\"><div class=\"sk-text-repr-fallback\"><pre>RocketRegressor(num_kernels=500)</pre><b>Please rerun this cell to show the HTML repr or trust the notebook.</b></div><div class=\"sk-container\" hidden><div class='sk-item'><div class=\"sk-estimator sk-toggleable\"><input class=\"sk-toggleable__control sk-hidden--visually\" id=UUID('2ffebdb1-40d3-44b0-8812-18599f2098b4') type=\"checkbox\" checked><label for=UUID('2ffebdb1-40d3-44b0-8812-18599f2098b4') class='sk-toggleable__label sk-toggleable__label-arrow'>RocketRegressor</label><div class=\"sk-toggleable__content\"><pre>RocketRegressor(num_kernels=500)</pre></div></div></div></div></div>"
      ],
      "text/plain": [
       "RocketRegressor(num_kernels=500)"
      ]
     },
     "execution_count": 7,
     "metadata": {},
     "output_type": "execute_result"
    }
   ],
   "source": [
    "X_train, y_train = df[[\"0\",\"1\",\"2\",\"3\"]][:150], df[\"4\"][:150]\n",
    "X_test, y_test = df[[\"0\",\"1\",\"2\",\"3\"]][150:], df[\"4\"][150:]\n",
    "reg = RocketRegressor(num_kernels=500)\n",
    "reg.fit(X_train.values, y_train) "
   ]
  },
  {
   "cell_type": "code",
   "execution_count": 10,
   "id": "0ffdd57a",
   "metadata": {},
   "outputs": [
    {
     "data": {
      "text/plain": [
       "150   -0.075437\n",
       "151    0.186735\n",
       "152   -1.186694\n",
       "153   -1.840561\n",
       "154    0.993437\n",
       "155    1.153353\n",
       "156    0.885528\n",
       "157    0.341837\n",
       "158   -1.267892\n",
       "159   -0.319106\n",
       "160   -0.461265\n",
       "161   -3.132581\n",
       "162   -0.766755\n",
       "163    1.930694\n",
       "164    0.381987\n",
       "165   -2.165193\n",
       "166   -0.631257\n",
       "167    0.661356\n",
       "168    0.164489\n",
       "169    0.015012\n",
       "170    0.288475\n",
       "171    0.075576\n",
       "172    0.913179\n",
       "173    0.010503\n",
       "174    0.908372\n",
       "175    1.004148\n",
       "176   -0.089637\n",
       "177   -1.966492\n",
       "178   -1.459564\n",
       "179   -1.227624\n",
       "180    0.306456\n",
       "181    2.914213\n",
       "182    1.288950\n",
       "183   -1.033642\n",
       "184    1.138677\n",
       "185    1.302828\n",
       "186   -0.697739\n",
       "187   -0.838609\n",
       "188   -0.078849\n",
       "189   -0.258168\n",
       "190    1.241632\n",
       "191    0.382624\n",
       "192   -0.702680\n",
       "193   -1.338314\n",
       "194    1.618735\n",
       "195   -1.618249\n",
       "196   -1.606648\n",
       "197   -0.856484\n",
       "198   -0.168296\n",
       "199    1.420096\n",
       "Name: 4, dtype: float64"
      ]
     },
     "execution_count": 10,
     "metadata": {},
     "output_type": "execute_result"
    }
   ],
   "source": [
    "reg.predict(X_test.values) - y_test"
   ]
  },
  {
   "cell_type": "code",
   "execution_count": null,
   "id": "0b61c655",
   "metadata": {},
   "outputs": [],
   "source": []
  }
 ],
 "metadata": {
  "kernelspec": {
   "display_name": "Python 3",
   "language": "python",
   "name": "python3"
  },
  "language_info": {
   "codemirror_mode": {
    "name": "ipython",
    "version": 3
   },
   "file_extension": ".py",
   "mimetype": "text/x-python",
   "name": "python",
   "nbconvert_exporter": "python",
   "pygments_lexer": "ipython3",
   "version": "3.8.10"
  }
 },
 "nbformat": 4,
 "nbformat_minor": 5
}
