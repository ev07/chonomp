{
 "cells": [
  {
   "cell_type": "code",
   "execution_count": null,
   "id": "602ddd48",
   "metadata": {},
   "outputs": [],
   "source": [
    "import pandas as pd"
   ]
  },
  {
   "cell_type": "code",
   "execution_count": null,
   "id": "8e9c42cd",
   "metadata": {},
   "outputs": [],
   "source": [
    "l = []\n",
    "for modelname in [\"ARDL\"]:\n",
    "    for datasetname in [\"7ts2h\", \"fmri\", \"finance\",\"clim\",\"var10\", \"var10000\", \"varvaried\"]:#, \"varprocess\",\"varprocessnocorr\",\"varlarge\"]:\n",
    "        df = pd.read_csv(modelname+\"_\"+datasetname+\".csv\")\n",
    "        df['association_chosen'] = df['association_chosen'].apply(lambda x: x if pd.isnull(x) or isinstance(x,str) else str(int(x)))\n",
    "        l.append(df)"
   ]
  },
  {
   "cell_type": "code",
   "execution_count": null,
   "id": "28bffddf",
   "metadata": {},
   "outputs": [],
   "source": [
    "df_res = pd.concat(l)"
   ]
  },
  {
   "cell_type": "code",
   "execution_count": null,
   "id": "ea7e0cee",
   "metadata": {},
   "outputs": [],
   "source": [
    "df_res.to_csv(\"natural_stats.csv\",index=False)"
   ]
  },
  {
   "cell_type": "code",
   "execution_count": null,
   "id": "bded54ce",
   "metadata": {},
   "outputs": [],
   "source": []
  },
  {
   "cell_type": "code",
   "execution_count": null,
   "id": "b240db62",
   "metadata": {},
   "outputs": [],
   "source": []
  }
 ],
 "metadata": {
  "kernelspec": {
   "display_name": "Python 3",
   "language": "python",
   "name": "python3"
  },
  "language_info": {
   "codemirror_mode": {
    "name": "ipython",
    "version": 3
   },
   "file_extension": ".py",
   "mimetype": "text/x-python",
   "name": "python",
   "nbconvert_exporter": "python",
   "pygments_lexer": "ipython3",
   "version": "3.8.10"
  }
 },
 "nbformat": 4,
 "nbformat_minor": 5
}
