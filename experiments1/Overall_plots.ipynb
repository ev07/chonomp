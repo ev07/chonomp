{
 "cells": [
  {
   "cell_type": "code",
   "execution_count": null,
   "id": "e35ed562",
   "metadata": {},
   "outputs": [],
   "source": [
    "import pandas as pd\n",
    "\n",
    "import matplotlib.pyplot as plt\n",
    "import matplotlib.patches\n",
    "import seaborn as sns"
   ]
  },
  {
   "cell_type": "code",
   "execution_count": null,
   "id": "260d6327",
   "metadata": {},
   "outputs": [],
   "source": [
    "df_ref = pd.read_csv(\"natural_stats.csv\")\n",
    "#NaN convert int to floats, make sure that variable names are strings.\n",
    "df_ref['target'] = df_ref['target'].apply(lambda x: x if pd.isnull(x) or isinstance(x,str) else str(int(x)))\n",
    "df_ref['association_chosen'] = df_ref['association_chosen'].apply(lambda x: x if pd.isnull(x) or isinstance(x,str) else str(int(x)))\n",
    "\n",
    "df_ref = df_ref.replace(to_replace=\"SynthNonlin/7ts2h\", value=\"7ts2h\")\n",
    "df_ref = df_ref.replace(to_replace=\"fMRI_processed_by_Nauta/returns/our_selection\", value=\"fMRI\")\n",
    "df_ref = df_ref.replace(to_replace=\"TestCLIM_N-5_T-250/returns\", value=\"CLIM\")\n",
    "df_ref = df_ref.replace(to_replace=\"FinanceCPT/returns/our_selection\", value=\"Finance\")\n",
    "df_ref = df_ref.replace(to_replace=\"VARProcess/returns\", value = \"VARProcess\")\n",
    "df_ref = df_ref.replace(to_replace=\"VARProcessNoCorr/returns\", value = \"VARProcessNoCorr\")\n",
    "df_ref = df_ref.replace(to_replace=\"VARLarge/returns\", value = \"VAR10000\")\n",
    "df_ref = df_ref.replace(to_replace=\"VARSmall/returns\", value = \"VAR10\")\n",
    "df_ref = df_ref.replace(to_replace=\"VARVaried/returns\", value = \"VARVaried\")\n",
    "\n",
    "#select only timestep of natural termination\n",
    "df1 = df_ref[~df_ref[\"current_is_last_model\"].isnull()]\n",
    "df1 = df1[df1[\"current_is_last_model\"]]"
   ]
  },
  {
   "cell_type": "code",
   "execution_count": null,
   "id": "29e3f817",
   "metadata": {},
   "outputs": [],
   "source": [
    "df_data = pd.read_csv(\"reference.csv\")\n",
    "\n",
    "df_data['target'] = df_data['target'].apply(lambda x: x if pd.isnull(x) or isinstance(x,str) else str(int(x)))\n",
    "\n",
    "df_data = df_data.replace(to_replace=\"SynthNonlin/7ts2h\", value=\"7ts2h\")\n",
    "df_data = df_data.replace(to_replace=\"fMRI_processed_by_Nauta/returns/our_selection\", value=\"fMRI\")\n",
    "df_data = df_data.replace(to_replace=\"TestCLIM_N-5_T-250/returns\", value=\"CLIM\")\n",
    "df_data = df_data.replace(to_replace=\"FinanceCPT/returns/our_selection\", value=\"Finance\")\n",
    "df_data = df_data.replace(to_replace=\"VARProcess/returns\", value = \"VARProcess\")\n",
    "df_data = df_data.replace(to_replace=\"VARProcessNoCorr/returns\", value = \"VARProcessNoCorr\")\n",
    "df_data = df_data.replace(to_replace=\"VARLarge/returns\", value = \"VAR10000\")\n",
    "df_data = df_data.replace(to_replace=\"VARSmall/returns\", value = \"VAR10\")\n",
    "df_data = df_data.replace(to_replace=\"VARVaried/returns\", value = \"VARVaried\")"
   ]
  },
  {
   "cell_type": "code",
   "execution_count": null,
   "id": "4146923e",
   "metadata": {},
   "outputs": [],
   "source": [
    "df_data.columns"
   ]
  },
  {
   "cell_type": "markdown",
   "id": "7384d33d",
   "metadata": {},
   "source": [
    "## avg R2 rank VS dataset length"
   ]
  },
  {
   "cell_type": "code",
   "execution_count": null,
   "id": "08c8326a",
   "metadata": {},
   "outputs": [],
   "source": [
    "df = df_ref.merge(df_data, on=[\"dataset\",\"filename\",\"target\"])\n",
    "df1 = df[~df[\"current_is_last_model\"].isnull()]\n",
    "df1 = df1[df1[\"current_is_last_model\"]]\n",
    "\n",
    "df1[\"assoc,stopping\"]=df1['association']+\",\"+df1[\"stopping_criterion\"]\n",
    "\n",
    "#compute ranks\n",
    "df1 = df1[[\"assoc,stopping\",\"nb_timesteps_test\",\"dataset\",\"filename\",\"target\", \"test_R2\"]]\n",
    "df1 = df1.pivot(index=['dataset',\"filename\",\"target\",\"nb_timesteps_test\"], columns='assoc,stopping', values='test_R2')\n",
    "df1 = df1.rank(axis=1, ascending=False)\n",
    "df1 = df1.reset_index()\n",
    "df1 = pd.melt(df1, id_vars=['dataset','filename','target','nb_timesteps_test'], value_name=\"test_R2_rank\")\n",
    "#compute average ranks\n",
    "df1 = df1.groupby([\"nb_timesteps_test\",\"assoc,stopping\"]).mean().reset_index()"
   ]
  },
  {
   "cell_type": "code",
   "execution_count": null,
   "id": "5a7a5dfe",
   "metadata": {},
   "outputs": [],
   "source": [
    "g=sns.lineplot(df1, x=\"nb_timesteps_test\", y=\"test_R2_rank\", hue=\"assoc,stopping\")\n",
    "g.legend(loc='center left', bbox_to_anchor=(1.25, 0.5), ncol=1)"
   ]
  },
  {
   "cell_type": "code",
   "execution_count": null,
   "id": "8ef3ec53",
   "metadata": {},
   "outputs": [],
   "source": [
    "df1.pivot(index=[\"nb_timesteps_test\"],columns=\"assoc,stopping\",values=\"test_R2_rank\")"
   ]
  },
  {
   "cell_type": "code",
   "execution_count": null,
   "id": "0ab496a1",
   "metadata": {},
   "outputs": [],
   "source": [
    "df = df_ref.merge(df_data, on=[\"dataset\",\"filename\",\"target\"])\n",
    "df1 = df[~df[\"current_is_last_model\"].isnull()]\n",
    "df1 = df1[df1[\"current_is_last_model\"]]\n",
    "\n",
    "df1[\"assoc,stopping\"]=df1['association']+\",\"+df1[\"stopping_criterion\"]\n",
    "\n",
    "#compute ranks\n",
    "df1 = df1[[\"assoc,stopping\",\"nb_variables\",\"dataset\",\"filename\",\"target\", \"test_R2\"]]\n",
    "df1 = df1.pivot(index=['dataset',\"filename\",\"target\",\"nb_variables\"], columns='assoc,stopping', values='test_R2')\n",
    "df1 = df1.rank(axis=1, ascending=False)\n",
    "df1 = df1.reset_index()\n",
    "df1 = pd.melt(df1, id_vars=['dataset','filename','target','nb_variables'], value_name=\"test_R2_rank\")\n",
    "#compute average ranks\n",
    "df1 = df1.groupby([\"nb_variables\",\"assoc,stopping\"]).mean().reset_index()"
   ]
  },
  {
   "cell_type": "code",
   "execution_count": null,
   "id": "455c8455",
   "metadata": {},
   "outputs": [],
   "source": [
    "g=sns.lineplot(df1, x=\"nb_variables\", y=\"test_R2_rank\", hue=\"assoc,stopping\")\n",
    "g.legend(loc='center left', bbox_to_anchor=(1.25, 0.5), ncol=1)\n",
    "g.set_xscale(\"log\")"
   ]
  },
  {
   "cell_type": "code",
   "execution_count": null,
   "id": "279ba556",
   "metadata": {},
   "outputs": [],
   "source": [
    "df1.pivot(index=[\"nb_variables\"],columns=\"assoc,stopping\",values=\"test_R2_rank\")"
   ]
  },
  {
   "cell_type": "code",
   "execution_count": null,
   "id": "2ea14826",
   "metadata": {},
   "outputs": [],
   "source": [
    "print(\"table with R2 in function of length\")\n",
    "\n",
    "df = df_ref.merge(df_data, on=[\"dataset\",\"filename\",\"target\"])\n",
    "df1 = df[~df[\"current_is_last_model\"].isnull()]\n",
    "df1 = df1[df1[\"current_is_last_model\"]]\n",
    "\n",
    "df1[\"assoc,stopping\"]=df1['association']+\",\"+df1[\"stopping_criterion\"]\n",
    "\n",
    "#compute ranks\n",
    "df1 = df1[[\"assoc,stopping\",\"nb_timesteps_test\",\"dataset\",\"filename\",\"target\", \"test_R2\"]]\n",
    "df1 = df1.pivot(index=['dataset',\"filename\",\"target\",\"nb_timesteps_test\"], columns='assoc,stopping', values='test_R2')\n",
    "#df1 = df1.rank(axis=1, ascending=False)\n",
    "df1 = df1.reset_index()\n",
    "df1 = pd.melt(df1, id_vars=['dataset','filename','target','nb_timesteps_test'], value_name=\"test_R2_rank\")\n",
    "#compute average ranks\n",
    "df1 = df1.groupby([\"nb_timesteps_test\",\"assoc,stopping\"]).mean().reset_index()\n",
    "print(df1.pivot(index=[\"nb_timesteps_test\"],columns=\"assoc,stopping\",values=\"test_R2_rank\").to_latex())"
   ]
  },
  {
   "cell_type": "code",
   "execution_count": null,
   "id": "fc5f7d29",
   "metadata": {
    "scrolled": true
   },
   "outputs": [],
   "source": [
    "print(\"table with R2 in function of nb variables\")\n",
    "\n",
    "df = df_ref.merge(df_data, on=[\"dataset\",\"filename\",\"target\"])\n",
    "df1 = df[~df[\"current_is_last_model\"].isnull()]\n",
    "df1 = df1[df1[\"current_is_last_model\"]]\n",
    "\n",
    "df1[\"assoc,stopping\"]=df1['association']+\",\"+df1[\"stopping_criterion\"]\n",
    "\n",
    "#compute ranks\n",
    "df1 = df1[[\"assoc,stopping\",\"nb_variables\",\"dataset\",\"filename\",\"target\", \"test_R2\"]]\n",
    "df1 = df1.pivot(index=['dataset',\"filename\",\"target\",\"nb_variables\"], columns='assoc,stopping', values='test_R2')\n",
    "#df1 = df1.rank(axis=1, ascending=False)\n",
    "df1 = df1.reset_index()\n",
    "df1 = pd.melt(df1, id_vars=['dataset','filename','target','nb_variables'], value_name=\"test_R2_rank\")\n",
    "#compute average ranks\n",
    "df1 = df1.groupby([\"nb_variables\",\"assoc,stopping\"]).mean().reset_index()\n",
    "df1.pivot(index=[\"nb_variables\"],columns=\"assoc,stopping\",values=\"test_R2_rank\")"
   ]
  },
  {
   "cell_type": "markdown",
   "id": "3408afaa",
   "metadata": {},
   "source": [
    "# Controlled exp with linear data and variable length"
   ]
  },
  {
   "cell_type": "code",
   "execution_count": null,
   "id": "7dbcb6a2",
   "metadata": {},
   "outputs": [],
   "source": [
    "plt.subplot(121)\n",
    "\n",
    "df = df_ref.merge(df_data, on=[\"dataset\",\"filename\",\"target\"])\n",
    "df1 = df[~df[\"current_is_last_model\"].isnull()]\n",
    "df1 = df1[df1[\"current_is_last_model\"]]\n",
    "df1 = df1[df1[\"dataset\"]==\"VARVaried\"]\n",
    "\n",
    "df1[\"assoc,stopping\"]=df1['association']+\",\"+df1[\"stopping_criterion\"]\n",
    "\n",
    "#compute ranks\n",
    "df1 = df1[[\"assoc,stopping\",\"nb_timesteps\",\"dataset\",\"filename\",\"target\", \"test_R2\"]]\n",
    "df1 = df1.pivot(index=['dataset',\"filename\",\"target\",\"nb_timesteps\"], columns='assoc,stopping', values='test_R2')\n",
    "df1 = df1.rank(axis=1, ascending=False)\n",
    "df1 = df1.reset_index()\n",
    "df1 = pd.melt(df1, id_vars=['dataset','filename','target','nb_timesteps'], value_name=\"test_R2_rank\")\n",
    "#compute average ranks\n",
    "df1 = df1.groupby([\"nb_timesteps\",\"assoc,stopping\"]).mean().reset_index()\n",
    "\n",
    "g=sns.lineplot(df1, x=\"nb_timesteps\", y=\"test_R2_rank\", hue=\"assoc,stopping\")\n",
    "g.legend(loc='center left', bbox_to_anchor=(1.25, 0.5), ncol=1)\n",
    "\n",
    "plt.subplot(122)\n",
    "df = df_ref.merge(df_data, on=[\"dataset\",\"filename\",\"target\"])\n",
    "df1 = df[~df[\"current_is_last_model\"].isnull()]\n",
    "df1 = df1[df1[\"current_is_last_model\"]]\n",
    "df1 = df1[df1[\"dataset\"]==\"VARVaried\"]\n",
    "\n",
    "df1[\"assoc,stopping\"]=df1['association']+\",\"+df1[\"stopping_criterion\"]\n",
    "\n",
    "#compute ranks\n",
    "df1 = df1[[\"assoc,stopping\",\"nb_timesteps\",\"dataset\",\"filename\",\"target\", \"test_rmse\"]]\n",
    "df1 = df1.pivot(index=['dataset',\"filename\",\"target\",\"nb_timesteps\"], columns='assoc,stopping', values='test_rmse')\n",
    "#df1 = df1.rank(axis=1, ascending=False)\n",
    "df1 = df1.reset_index()\n",
    "df1 = pd.melt(df1, id_vars=['dataset','filename','target','nb_timesteps'], value_name=\"test_rmse\")\n",
    "#compute average ranks\n",
    "df1 = df1.groupby([\"nb_timesteps\",\"assoc,stopping\"]).mean().reset_index()\n",
    "\n",
    "g=sns.lineplot(df1, x=\"nb_timesteps\", y=\"test_rmse\", hue=\"assoc,stopping\")\n",
    "g.legend(loc='center left', bbox_to_anchor=(1.25, 0.5), ncol=1)"
   ]
  },
  {
   "cell_type": "raw",
   "id": "cb13b6be",
   "metadata": {},
   "source": [
    "df_data.columns"
   ]
  },
  {
   "cell_type": "code",
   "execution_count": null,
   "id": "bea12faa",
   "metadata": {
    "scrolled": true
   },
   "outputs": [],
   "source": [
    "plt.subplot(121)\n",
    "\n",
    "df = df_ref.merge(df_data, on=[\"dataset\",\"filename\",\"target\"])\n",
    "df1 = df[~df[\"current_is_last_model\"].isnull()]\n",
    "df1 = df1[df1[\"current_is_last_model\"]]\n",
    "df1 = df1[df1[\"dataset\"]==\"VARVaried\"]\n",
    "\n",
    "df1[\"assoc,stopping\"]=df1['association']+\",\"+df1[\"stopping_criterion\"]\n",
    "\n",
    "#compute ranks\n",
    "df1 = df1[[\"assoc,stopping\",\"nb_variables\",\"dataset\",\"filename\",\"target\", \"test_R2\"]]\n",
    "df1 = df1.pivot(index=['dataset',\"filename\",\"target\",\"nb_variables\"], columns='assoc,stopping', values='test_R2')\n",
    "df1 = df1.rank(axis=1, ascending=False)\n",
    "df1 = df1.reset_index()\n",
    "df1 = pd.melt(df1, id_vars=['dataset','filename','target','nb_variables'], value_name=\"test_R2_rank\")\n",
    "#compute average ranks\n",
    "df1 = df1.groupby([\"nb_variables\",\"assoc,stopping\"]).mean().reset_index()\n",
    "\n",
    "print(df1)\n",
    "\n",
    "\n",
    "g=sns.lineplot(df1, x=\"nb_variables\", y=\"test_R2_rank\", hue=\"assoc,stopping\")\n",
    "g.legend(loc='center left', bbox_to_anchor=(1.25, 0.5), ncol=1)\n",
    "\n",
    "plt.subplot(122)\n",
    "df = df_ref.merge(df_data, on=[\"dataset\",\"filename\",\"target\"])\n",
    "df1 = df[~df[\"current_is_last_model\"].isnull()]\n",
    "df1 = df1[df1[\"current_is_last_model\"]]\n",
    "df1 = df1[df1[\"dataset\"]==\"VARVaried\"]\n",
    "\n",
    "df1[\"assoc,stopping\"]=df1['association']+\",\"+df1[\"stopping_criterion\"]\n",
    "\n",
    "#compute ranks\n",
    "df1 = df1[[\"assoc,stopping\",\"nb_variables\",\"dataset\",\"filename\",\"target\", \"test_rmse\"]]\n",
    "df1 = df1.pivot(index=['dataset',\"filename\",\"target\",\"nb_variables\"], columns='assoc,stopping', values='test_rmse')\n",
    "#df1 = df1.rank(axis=1, ascending=False)\n",
    "df1 = df1.reset_index()\n",
    "df1 = pd.melt(df1, id_vars=['dataset','filename','target','nb_variables'], value_name=\"test_rmse\")\n",
    "#compute average ranks\n",
    "df1 = df1.groupby([\"nb_variables\",\"assoc,stopping\"]).mean().reset_index()\n",
    "\n",
    "g=sns.lineplot(df1, x=\"nb_variables\", y=\"test_rmse\", hue=\"assoc,stopping\")\n",
    "g.legend(loc='center left', bbox_to_anchor=(1.25, 0.5), ncol=1)"
   ]
  },
  {
   "cell_type": "code",
   "execution_count": null,
   "id": "c54f84b1",
   "metadata": {},
   "outputs": [],
   "source": [
    "df = df_ref.merge(df_data, on=[\"dataset\",\"filename\",\"target\"])\n",
    "df1 = df[~df[\"current_is_last_model\"].isnull()]\n",
    "df1 = df1[df1[\"current_is_last_model\"]]\n",
    "\n",
    "df1[\"assoc,stopping\"]=df1['association']+\",\"+df1[\"stopping_criterion\"]\n",
    "\n",
    "g = sns.FacetGrid(df1, col=\"dataset\", col_wrap=4, sharey=False)\n",
    "g.map_dataframe(sns.boxplot, x=\"assoc,stopping\", y=\"test_R2\")"
   ]
  },
  {
   "cell_type": "code",
   "execution_count": null,
   "id": "ebe4edd1",
   "metadata": {},
   "outputs": [],
   "source": [
    "plt.rcParams[\"figure.figsize\"] = (4.5,5)\n",
    "d = df1[df1[\"dataset\"]!=\"VARVaried\"]\n",
    "d = d[d[\"dataset\"]!=\"Finance\"]\n",
    "d = d[d[\"dataset\"]!=\"CLIM\"]\n",
    "d = d[d[\"dataset\"]!=\"fMRI\"]\n",
    "d = d[d[\"dataset\"]!=\"7ts2h\"]\n",
    "d = d.rename(columns={\"assoc,stopping\":\"configuration\"})\n",
    "\n",
    "dth = d[d[\"configuration\"]==\"Pearson,f-test\"]\n",
    "dth=dth[[\"dataset\",\"causal_test_R2\"]]\n",
    "dth[\"configuration\"]=\"Opt.ARDL.Model\"\n",
    "dth=dth.rename(columns={\"causal_test_R2\":\"test_R2\"})\n",
    "d = pd.concat([d[[\"configuration\",\"test_R2\",\"dataset\"]],dth])\n",
    "\n",
    "g = sns.boxplot(d, hue=\"configuration\",y=\"test_R2\",x=\"dataset\")\n",
    "\n",
    "plt.savefig(\"temp.svg\")"
   ]
  },
  {
   "cell_type": "code",
   "execution_count": null,
   "id": "10c02ec5",
   "metadata": {},
   "outputs": [],
   "source": [
    "plt.rcParams[\"figure.figsize\"] = (4.5,5)\n",
    "d = df1[df1[\"dataset\"]!=\"VARVaried\"]\n",
    "d = d[d[\"dataset\"]!=\"Finance\"]\n",
    "d = d[d[\"dataset\"]!=\"CLIM\"]\n",
    "d = d[d[\"dataset\"]!=\"fMRI\"]\n",
    "d = d[d[\"dataset\"]!=\"7ts2h\"]\n",
    "d = d.rename(columns={\"assoc,stopping\":\"configuration\"})\n",
    "d = d.rename(columns={\"totaltime\":\"Total time (s)\"})\n",
    "\n",
    "g = sns.boxplot(d, hue=\"configuration\",y=\"Total time (s)\",x=\"dataset\")\n",
    "g.set_yscale(\"log\")\n",
    "\n",
    "plt.savefig(\"temp.svg\")"
   ]
  },
  {
   "cell_type": "code",
   "execution_count": null,
   "id": "1c194505",
   "metadata": {},
   "outputs": [],
   "source": [
    "plt.rcParams[\"figure.figsize\"] = (4.5,5)\n",
    "\n",
    "fig, axes = plt.subplots(2,1)\n",
    "d = df1[df1[\"dataset\"]!=\"VARVaried\"]\n",
    "d = d[d[\"dataset\"]!=\"Finance\"]\n",
    "d = d[d[\"dataset\"]!=\"CLIM\"]\n",
    "d = d[d[\"dataset\"]!=\"fMRI\"]\n",
    "d = d[d[\"dataset\"]!=\"7ts2h\"]\n",
    "d = d.rename(columns={\"assoc,stopping\":\"configuration\"})\n",
    "d = d.rename(columns={\"final_recall\":\"Recall\"})\n",
    "d = d.rename(columns={\"final_precision\":\"Precision\"})\n",
    "\n",
    "g = sns.boxplot(d, hue=\"configuration\",y=\"Recall\",x=\"dataset\", ax=axes[0])\n",
    "g = sns.boxplot(d, hue=\"configuration\",y=\"Precision\",x=\"dataset\", ax=axes[1])\n",
    "sns.move_legend(axes[0], \"upper left\", bbox_to_anchor=(1, 1))\n",
    "sns.move_legend(axes[1], \"upper left\", bbox_to_anchor=(1, 1))\n",
    "axes[1].legend([], [], frameon=False)\n",
    "plt.savefig(\"temp.svg\",bbox_inches='tight')"
   ]
  },
  {
   "cell_type": "code",
   "execution_count": null,
   "id": "5b35ce8d",
   "metadata": {},
   "outputs": [],
   "source": [
    "plt.rcParams[\"figure.figsize\"] = (4.5,5)\n",
    "\n",
    "fig, axes = plt.subplots(2,1)\n",
    "d = df1[df1[\"dataset\"]!=\"VARVaried\"]\n",
    "d = d[d[\"dataset\"]!=\"Finance\"]\n",
    "d = d[d[\"dataset\"]!=\"VAR10\"]\n",
    "d = d[d[\"dataset\"]!=\"VAR10000\"]\n",
    "d = d.rename(columns={\"assoc,stopping\":\"configuration\"})\n",
    "d = d.rename(columns={\"final_recall\":\"Recall\"})\n",
    "d = d.rename(columns={\"final_precision\":\"Precision\"})\n",
    "\n",
    "g = sns.boxplot(d, hue=\"configuration\",y=\"Recall\",x=\"dataset\", ax=axes[0])\n",
    "g = sns.boxplot(d, hue=\"configuration\",y=\"Precision\",x=\"dataset\", ax=axes[1])\n",
    "sns.move_legend(axes[0], \"upper left\", bbox_to_anchor=(1, 1))\n",
    "sns.move_legend(axes[1], \"upper left\", bbox_to_anchor=(1, 1))\n",
    "axes[1].legend([], [], frameon=False)\n",
    "plt.savefig(\"temp.svg\",bbox_inches='tight')"
   ]
  },
  {
   "cell_type": "code",
   "execution_count": null,
   "id": "3a103db9",
   "metadata": {},
   "outputs": [],
   "source": [
    "plt.rcParams[\"figure.figsize\"] = (4.5,5)\n",
    "d = df1[df1[\"dataset\"]!=\"VARVaried\"]\n",
    "d = d[d[\"dataset\"]!=\"Finance\"]\n",
    "d = d[d[\"dataset\"]!=\"VAR10\"]\n",
    "d = d[d[\"dataset\"]!=\"VAR10000\"]\n",
    "d = d.rename(columns={\"assoc,stopping\":\"configuration\"})\n",
    "\n",
    "dth = d[d[\"configuration\"]==\"Pearson,f-test\"]\n",
    "dth=dth[[\"dataset\",\"causal_test_R2\"]]\n",
    "dth[\"configuration\"]=\"Direct.ARDL.Model\"\n",
    "dth=dth.rename(columns={\"causal_test_R2\":\"test_R2\"})\n",
    "d = pd.concat([d[[\"configuration\",\"test_R2\",\"dataset\"]],dth])\n",
    "\n",
    "g = sns.boxplot(d, hue=\"configuration\",y=\"test_R2\",x=\"dataset\")\n",
    "\n",
    "plt.savefig(\"temp.svg\")"
   ]
  },
  {
   "cell_type": "code",
   "execution_count": null,
   "id": "84d6f347",
   "metadata": {},
   "outputs": [],
   "source": [
    "plt.rcParams[\"figure.figsize\"] = (15,7)\n",
    "fig, axs = plt.subplots(2,3, sharey=False, sharex=True)\n",
    "for i,dataset in enumerate(df1[\"dataset\"].unique()):\n",
    "    if dataset==\"VARVaried\":continue\n",
    "    d = df1[df1[\"dataset\"]==dataset]\n",
    "    y=\"test_R2\"\n",
    "    if i%3!=0: \n",
    "        d = d.rename(columns={'test_R2':\" \"})\n",
    "        y=\" \"\n",
    "    d = d.rename(columns={'assoc,stopping':dataset})\n",
    "    sns.boxplot(d, x=dataset,y=y, ax=axs[i//3, i%3])"
   ]
  },
  {
   "cell_type": "code",
   "execution_count": null,
   "id": "36f8d510",
   "metadata": {},
   "outputs": [],
   "source": [
    "d = df1[df1[\"dataset\"]!=\"VARVaried\"]\n",
    "d = d.rename(columns={\"assoc,stopping\":\"configuration\"})\n",
    "g=sns.boxplot(d, hue=\"configuration\",y=\"final_precision\",x=\"dataset\")"
   ]
  },
  {
   "cell_type": "code",
   "execution_count": null,
   "id": "8b69e442",
   "metadata": {},
   "outputs": [],
   "source": [
    "d = df1[df1[\"dataset\"]!=\"VARVaried\"]\n",
    "d = d.rename(columns={\"assoc,stopping\":\"configuration\"})\n",
    "g=sns.boxplot(d, hue=\"configuration\",y=\"final_recall\",x=\"dataset\")"
   ]
  },
  {
   "cell_type": "code",
   "execution_count": null,
   "id": "d2d1253a",
   "metadata": {},
   "outputs": [],
   "source": []
  }
 ],
 "metadata": {
  "kernelspec": {
   "display_name": "Python 3",
   "language": "python",
   "name": "python3"
  },
  "language_info": {
   "codemirror_mode": {
    "name": "ipython",
    "version": 3
   },
   "file_extension": ".py",
   "mimetype": "text/x-python",
   "name": "python",
   "nbconvert_exporter": "python",
   "pygments_lexer": "ipython3",
   "version": "3.8.10"
  }
 },
 "nbformat": 4,
 "nbformat_minor": 5
}
